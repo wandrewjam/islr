{
 "cells": [
  {
   "cell_type": "markdown",
   "id": "5118972f",
   "metadata": {},
   "source": [
    "### Import packages for statistical analysis"
   ]
  },
  {
   "cell_type": "code",
   "execution_count": 1,
   "id": "1f1c8889",
   "metadata": {},
   "outputs": [],
   "source": [
    "import numpy as np\n",
    "import matplotlib.pyplot as plt\n",
    "import pandas as pd\n",
    "import statsmodels.api as sm\n",
    "import statsmodels.formula.api as smf\n",
    "import scipy.stats as stats\n",
    "from statsmodels.nonparametric.smoothers_lowess import lowess\n",
    "from patsy import dmatrices"
   ]
  },
  {
   "cell_type": "code",
   "execution_count": 2,
   "id": "42bf2fd9",
   "metadata": {},
   "outputs": [],
   "source": [
    "%matplotlib inline"
   ]
  },
  {
   "cell_type": "markdown",
   "id": "471c1bb8",
   "metadata": {},
   "source": [
    "### Load the Boston data set and check the columns"
   ]
  },
  {
   "cell_type": "code",
   "execution_count": 3,
   "id": "2f26501c",
   "metadata": {},
   "outputs": [],
   "source": [
    "boston = sm.datasets.get_rdataset('Boston', 'MASS')\n",
    "boston_df = boston.data"
   ]
  },
  {
   "cell_type": "code",
   "execution_count": 4,
   "id": "eab5a06c",
   "metadata": {},
   "outputs": [
    {
     "data": {
      "text/html": [
       "<div>\n",
       "<style scoped>\n",
       "    .dataframe tbody tr th:only-of-type {\n",
       "        vertical-align: middle;\n",
       "    }\n",
       "\n",
       "    .dataframe tbody tr th {\n",
       "        vertical-align: top;\n",
       "    }\n",
       "\n",
       "    .dataframe thead th {\n",
       "        text-align: right;\n",
       "    }\n",
       "</style>\n",
       "<table border=\"1\" class=\"dataframe\">\n",
       "  <thead>\n",
       "    <tr style=\"text-align: right;\">\n",
       "      <th></th>\n",
       "      <th>crim</th>\n",
       "      <th>zn</th>\n",
       "      <th>indus</th>\n",
       "      <th>chas</th>\n",
       "      <th>nox</th>\n",
       "      <th>rm</th>\n",
       "      <th>age</th>\n",
       "      <th>dis</th>\n",
       "      <th>rad</th>\n",
       "      <th>tax</th>\n",
       "      <th>ptratio</th>\n",
       "      <th>black</th>\n",
       "      <th>lstat</th>\n",
       "      <th>medv</th>\n",
       "    </tr>\n",
       "  </thead>\n",
       "  <tbody>\n",
       "    <tr>\n",
       "      <th>0</th>\n",
       "      <td>0.00632</td>\n",
       "      <td>18.0</td>\n",
       "      <td>2.31</td>\n",
       "      <td>0</td>\n",
       "      <td>0.538</td>\n",
       "      <td>6.575</td>\n",
       "      <td>65.2</td>\n",
       "      <td>4.0900</td>\n",
       "      <td>1</td>\n",
       "      <td>296</td>\n",
       "      <td>15.3</td>\n",
       "      <td>396.90</td>\n",
       "      <td>4.98</td>\n",
       "      <td>24.0</td>\n",
       "    </tr>\n",
       "    <tr>\n",
       "      <th>1</th>\n",
       "      <td>0.02731</td>\n",
       "      <td>0.0</td>\n",
       "      <td>7.07</td>\n",
       "      <td>0</td>\n",
       "      <td>0.469</td>\n",
       "      <td>6.421</td>\n",
       "      <td>78.9</td>\n",
       "      <td>4.9671</td>\n",
       "      <td>2</td>\n",
       "      <td>242</td>\n",
       "      <td>17.8</td>\n",
       "      <td>396.90</td>\n",
       "      <td>9.14</td>\n",
       "      <td>21.6</td>\n",
       "    </tr>\n",
       "    <tr>\n",
       "      <th>2</th>\n",
       "      <td>0.02729</td>\n",
       "      <td>0.0</td>\n",
       "      <td>7.07</td>\n",
       "      <td>0</td>\n",
       "      <td>0.469</td>\n",
       "      <td>7.185</td>\n",
       "      <td>61.1</td>\n",
       "      <td>4.9671</td>\n",
       "      <td>2</td>\n",
       "      <td>242</td>\n",
       "      <td>17.8</td>\n",
       "      <td>392.83</td>\n",
       "      <td>4.03</td>\n",
       "      <td>34.7</td>\n",
       "    </tr>\n",
       "    <tr>\n",
       "      <th>3</th>\n",
       "      <td>0.03237</td>\n",
       "      <td>0.0</td>\n",
       "      <td>2.18</td>\n",
       "      <td>0</td>\n",
       "      <td>0.458</td>\n",
       "      <td>6.998</td>\n",
       "      <td>45.8</td>\n",
       "      <td>6.0622</td>\n",
       "      <td>3</td>\n",
       "      <td>222</td>\n",
       "      <td>18.7</td>\n",
       "      <td>394.63</td>\n",
       "      <td>2.94</td>\n",
       "      <td>33.4</td>\n",
       "    </tr>\n",
       "    <tr>\n",
       "      <th>4</th>\n",
       "      <td>0.06905</td>\n",
       "      <td>0.0</td>\n",
       "      <td>2.18</td>\n",
       "      <td>0</td>\n",
       "      <td>0.458</td>\n",
       "      <td>7.147</td>\n",
       "      <td>54.2</td>\n",
       "      <td>6.0622</td>\n",
       "      <td>3</td>\n",
       "      <td>222</td>\n",
       "      <td>18.7</td>\n",
       "      <td>396.90</td>\n",
       "      <td>5.33</td>\n",
       "      <td>36.2</td>\n",
       "    </tr>\n",
       "  </tbody>\n",
       "</table>\n",
       "</div>"
      ],
      "text/plain": [
       "      crim    zn  indus  chas    nox     rm   age     dis  rad  tax  ptratio  \\\n",
       "0  0.00632  18.0   2.31     0  0.538  6.575  65.2  4.0900    1  296     15.3   \n",
       "1  0.02731   0.0   7.07     0  0.469  6.421  78.9  4.9671    2  242     17.8   \n",
       "2  0.02729   0.0   7.07     0  0.469  7.185  61.1  4.9671    2  242     17.8   \n",
       "3  0.03237   0.0   2.18     0  0.458  6.998  45.8  6.0622    3  222     18.7   \n",
       "4  0.06905   0.0   2.18     0  0.458  7.147  54.2  6.0622    3  222     18.7   \n",
       "\n",
       "    black  lstat  medv  \n",
       "0  396.90   4.98  24.0  \n",
       "1  396.90   9.14  21.6  \n",
       "2  392.83   4.03  34.7  \n",
       "3  394.63   2.94  33.4  \n",
       "4  396.90   5.33  36.2  "
      ]
     },
     "execution_count": 4,
     "metadata": {},
     "output_type": "execute_result"
    }
   ],
   "source": [
    "boston_df.head()"
   ]
  },
  {
   "cell_type": "markdown",
   "id": "4eb84e0a",
   "metadata": {},
   "source": [
    "### Fit a simple linear regression model of `lstat` to `medv`"
   ]
  },
  {
   "cell_type": "code",
   "execution_count": 5,
   "id": "61767fbf",
   "metadata": {},
   "outputs": [],
   "source": [
    "y, X = dmatrices('medv ~ lstat', data=boston_df, return_type='dataframe')\n",
    "mod = sm.OLS(y, X)\n",
    "res = mod.fit()"
   ]
  },
  {
   "cell_type": "markdown",
   "id": "dca9d153",
   "metadata": {},
   "source": [
    "Summary of the result of the regression:"
   ]
  },
  {
   "cell_type": "code",
   "execution_count": 6,
   "id": "e396d0fe",
   "metadata": {},
   "outputs": [
    {
     "name": "stdout",
     "output_type": "stream",
     "text": [
      "                            OLS Regression Results                            \n",
      "==============================================================================\n",
      "Dep. Variable:                   medv   R-squared:                       0.544\n",
      "Model:                            OLS   Adj. R-squared:                  0.543\n",
      "Method:                 Least Squares   F-statistic:                     601.6\n",
      "Date:                Mon, 12 Jul 2021   Prob (F-statistic):           5.08e-88\n",
      "Time:                        12:50:05   Log-Likelihood:                -1641.5\n",
      "No. Observations:                 506   AIC:                             3287.\n",
      "Df Residuals:                     504   BIC:                             3295.\n",
      "Df Model:                           1                                         \n",
      "Covariance Type:            nonrobust                                         \n",
      "==============================================================================\n",
      "                 coef    std err          t      P>|t|      [0.025      0.975]\n",
      "------------------------------------------------------------------------------\n",
      "Intercept     34.5538      0.563     61.415      0.000      33.448      35.659\n",
      "lstat         -0.9500      0.039    -24.528      0.000      -1.026      -0.874\n",
      "==============================================================================\n",
      "Omnibus:                      137.043   Durbin-Watson:                   0.892\n",
      "Prob(Omnibus):                  0.000   Jarque-Bera (JB):              291.373\n",
      "Skew:                           1.453   Prob(JB):                     5.36e-64\n",
      "Kurtosis:                       5.319   Cond. No.                         29.7\n",
      "==============================================================================\n",
      "\n",
      "Notes:\n",
      "[1] Standard Errors assume that the covariance matrix of the errors is correctly specified.\n"
     ]
    }
   ],
   "source": [
    "print(res.summary())"
   ]
  },
  {
   "cell_type": "markdown",
   "id": "07e1204e",
   "metadata": {},
   "source": [
    "Confidence intervals of the coefficients:"
   ]
  },
  {
   "cell_type": "code",
   "execution_count": 7,
   "id": "2de8b6c0",
   "metadata": {},
   "outputs": [
    {
     "data": {
      "text/html": [
       "<div>\n",
       "<style scoped>\n",
       "    .dataframe tbody tr th:only-of-type {\n",
       "        vertical-align: middle;\n",
       "    }\n",
       "\n",
       "    .dataframe tbody tr th {\n",
       "        vertical-align: top;\n",
       "    }\n",
       "\n",
       "    .dataframe thead th {\n",
       "        text-align: right;\n",
       "    }\n",
       "</style>\n",
       "<table border=\"1\" class=\"dataframe\">\n",
       "  <thead>\n",
       "    <tr style=\"text-align: right;\">\n",
       "      <th></th>\n",
       "      <th>0</th>\n",
       "      <th>1</th>\n",
       "    </tr>\n",
       "  </thead>\n",
       "  <tbody>\n",
       "    <tr>\n",
       "      <th>Intercept</th>\n",
       "      <td>33.448457</td>\n",
       "      <td>35.659225</td>\n",
       "    </tr>\n",
       "    <tr>\n",
       "      <th>lstat</th>\n",
       "      <td>-1.026148</td>\n",
       "      <td>-0.873951</td>\n",
       "    </tr>\n",
       "  </tbody>\n",
       "</table>\n",
       "</div>"
      ],
      "text/plain": [
       "                   0          1\n",
       "Intercept  33.448457  35.659225\n",
       "lstat      -1.026148  -0.873951"
      ]
     },
     "execution_count": 7,
     "metadata": {},
     "output_type": "execute_result"
    }
   ],
   "source": [
    "res.conf_int()"
   ]
  },
  {
   "cell_type": "markdown",
   "id": "120a152d",
   "metadata": {},
   "source": [
    "Predict `medv` for `lstat = [5, 10, 15]`:"
   ]
  },
  {
   "cell_type": "code",
   "execution_count": 8,
   "id": "92052562",
   "metadata": {},
   "outputs": [
    {
     "data": {
      "text/plain": [
       "array([29.80359411, 25.05334734, 20.30310057])"
      ]
     },
     "execution_count": 8,
     "metadata": {},
     "output_type": "execute_result"
    }
   ],
   "source": [
    "res.predict([[1, 5], [1, 10], [1, 15]])"
   ]
  },
  {
   "cell_type": "markdown",
   "id": "bf50fa44",
   "metadata": {},
   "source": [
    "Plot the data and regression line"
   ]
  },
  {
   "cell_type": "code",
   "execution_count": 9,
   "id": "f675daa9",
   "metadata": {},
   "outputs": [
    {
     "data": {
      "image/png": "[encoded data removed]",
      "text/plain": [
       "<Figure size 432x288 with 1 Axes>"
      ]
     },
     "metadata": {
      "needs_background": "light"
     },
     "output_type": "display_data"
    }
   ],
   "source": [
    "plt_num = 50\n",
    "X_plot = np.stack([np.ones(plt_num), np.linspace(0, 40, num=plt_num)], axis=1)\n",
    "plt.plot(X['lstat'], y, 'ko', markerfacecolor='none')\n",
    "plt.plot(X_plot[:, 1], res.predict(X_plot), 'r', linewidth=3)\n",
    "plt.show()"
   ]
  },
  {
   "cell_type": "markdown",
   "id": "3a805cae",
   "metadata": {},
   "source": [
    "Create a $2 \\times 2$ figure similar to running `par(mfrow=c(2,2))` and `plot(lm.fit)` in R"
   ]
  },
  {
   "cell_type": "code",
   "execution_count": 10,
   "id": "7a738cee",
   "metadata": {},
   "outputs": [
    {
     "data": {
      "image/png": "[encoded data removed]",
      "text/plain": [
       "<Figure size 576x576 with 4 Axes>"
      ]
     },
     "metadata": {
      "needs_background": "light"
     },
     "output_type": "display_data"
    }
   ],
   "source": [
    "fig, ax = plt.subplots(2, 2, figsize=[8, 8])\n",
    "\n",
    "### Create the Residuals vs. Fitted plot\n",
    "residuals = res.resid\n",
    "fitted = res.fittedvalues\n",
    "smoothed = lowess(residuals, fitted)\n",
    "top3 = abs(residuals).sort_values(ascending=False)[:3]\n",
    "\n",
    "# Plot the values\n",
    "ax[0, 0].scatter(fitted, residuals, edgecolors='k', facecolors='none')\n",
    "ax[0, 0].plot(smoothed[:, 0], smoothed[:, 1], color='r')\n",
    "ax[0, 0].axhline(0, color='k', linestyle=':', alpha=.5)\n",
    "ax[0, 0].set_xlabel('Fitted values')\n",
    "ax[0, 0].set_ylabel('Residuals')\n",
    "ax[0, 0].set_title('Residuals vs Fitted')\n",
    "\n",
    "\n",
    "### Create the Q-Q plot\n",
    "sorted_student_residuals = pd.Series(\n",
    "    res.get_influence().resid_studentized_internal)\n",
    "sorted_student_residuals.index = res.resid.index\n",
    "sorted_student_residuals = sorted_student_residuals.sort_values(\n",
    "    ascending=True)\n",
    "df = pd.DataFrame(sorted_student_residuals)\n",
    "df.columns = ['sorted_student_residuals']\n",
    "df['theoretical_quantiles'] = stats.probplot(\n",
    "    df['sorted_student_residuals'], dist='norm', fit=False)[0]\n",
    "rankings = abs(df['sorted_student_residuals']).sort_values(\n",
    "    ascending=False)\n",
    "top3 = rankings[:3]\n",
    "x = df['theoretical_quantiles']\n",
    "y = df['sorted_student_residuals']\n",
    "\n",
    "# Plot the values\n",
    "ax[0, 1].scatter(x, y, edgecolors='k', facecolors='none')\n",
    "ax[0, 1].set_title('Normal Q-Q')\n",
    "ax[0, 1].set_xlabel('Theoretical quantiles')\n",
    "ax[0, 1].set_ylabel('Standardized residuals')\n",
    "ax[0, 1].plot([np.min([x, y]), np.max([x, y])], \n",
    "              [np.min([x, y]), np.max([x, y])], color='r', ls='--')\n",
    "for val in top3.index:\n",
    "    ax[0, 1].annotate(val, xy=(\n",
    "        df['theoretical_quantiles'].loc[val], \n",
    "        df['sorted_student_residuals'].loc[val]\n",
    "    ))\n",
    "\n",
    "    \n",
    "### Create the Scale-Location plot\n",
    "student_residuals = res.get_influence().resid_studentized_internal\n",
    "sqrt_student_residuals = pd.Series(np.sqrt(np.abs(student_residuals)))\n",
    "sqrt_student_residuals.index = res.resid.index\n",
    "smoothed = lowess(sqrt_student_residuals, fitted)\n",
    "top3 = abs(sqrt_student_residuals).sort_values(ascending=False)[:3]\n",
    "\n",
    "# Plot the values\n",
    "ax[1, 0].scatter(fitted, sqrt_student_residuals, \n",
    "                 edgecolors='k', facecolors='none')\n",
    "ax[1, 0].plot(smoothed[:, 0], smoothed[:, 1], color='r')\n",
    "ax[1, 0].set_xlabel('Fitted values')\n",
    "ax[1, 0].set_ylabel('$\\\\sqrt{|\\\\mathrm{Standardized \\ residuals}|}$')\n",
    "ax[1, 0].set_title('Scale-Location')\n",
    "ax[1, 0].set_ylim(0, max(sqrt_student_residuals) + 0.1)\n",
    "for i in top3.index:\n",
    "    ax[1, 0].annotate(i, xy=(fitted[i], sqrt_student_residuals[i]))\n",
    "\n",
    "    \n",
    "### Create the Residuals vs. Leverage plot\n",
    "student_residuals = pd.Series(res.get_influence().resid_studentized_internal)\n",
    "student_residuals.index = res.resid.index\n",
    "df = pd.DataFrame(student_residuals)\n",
    "df.columns = ['student_residuals']\n",
    "df['leverage'] = res.get_influence().hat_matrix_diag\n",
    "smoothed = lowess(df['student_residuals'], df['leverage'])\n",
    "sorted_student_residuals = abs(df['student_residuals']).sort_values(ascending=False)\n",
    "top3 = sorted_student_residuals[:3]\n",
    "\n",
    "# Plot the values\n",
    "x = df['leverage']\n",
    "y = df['student_residuals']\n",
    "xpos= max(x) + max(x) * 0.01\n",
    "ax[1, 1].scatter(x, y, edgecolors='k', facecolors='none')\n",
    "ax[1, 1].plot(smoothed[:, 0], smoothed[:, 1], color='r')\n",
    "ax[1, 1].set_title('Residuals vs Leverage')\n",
    "ax[1, 1].set_xlabel('Leverage')\n",
    "ax[1, 1].set_ylabel('Standardized residuals')\n",
    "ax[1, 1].set_ylim(min(y) - min(y) * 0.15, max(y) + max(y) * 0.15)\n",
    "# ax[1, 1].set_xlim(-0.01, max(x) + max(x) * 0.05)\n",
    "for val in top3.index:\n",
    "    ax[1, 1].annotate(val, xy=(x.loc[val], y.loc[val]))\n",
    "    \n",
    "cooksx = np.linspace(min(x), xpos, 50)\n",
    "p = len(res.params)\n",
    "poscooks1y = np.sqrt((p * (1 - cooksx)) / cooksx)\n",
    "poscooks05y = np.sqrt(0.5 * (p * (1 - cooksx)) / cooksx)\n",
    "negcooks1y = -np.sqrt((p * (1 - cooksx)) / cooksx)\n",
    "negcooks05y = -np.sqrt(0.5 * (p * (1 - cooksx)) / cooksx)\n",
    "\n",
    "ax[1, 1].plot(cooksx, poscooks1y, label='Cook\\'s Distance', ls=':', color='r')\n",
    "ax[1, 1].plot(cooksx, poscooks05y, ls=':', color='r')\n",
    "ax[1, 1].plot(cooksx, negcooks1y, ls=':', color='r')\n",
    "ax[1, 1].plot(cooksx, negcooks05y, ls=':', color='r')\n",
    "ax[1, 1].axvline(0, ls=':', alpha=.3, color='k')\n",
    "ax[1, 1].axhline(0, ls=':', alpha=.3, color='k')\n",
    "ax[1, 1].annotate('1.0', xy=(xpos, poscooks1y[-1]), color='r')\n",
    "ax[1, 1].annotate('0.5', xy=(xpos, poscooks05y[-1]), color='r')\n",
    "ax[1, 1].annotate('1.0', xy=(xpos, negcooks1y[-1]), color='r')\n",
    "ax[1, 1].annotate('0.5', xy=(xpos, negcooks05y[-1]), color='r')\n",
    "ax[1, 1].legend()\n",
    "\n",
    "plt.tight_layout()\n",
    "plt.show()"
   ]
  },
  {
   "cell_type": "markdown",
   "id": "b5e24474",
   "metadata": {},
   "source": [
    "### Multiple linear regression"
   ]
  },
  {
   "cell_type": "markdown",
   "id": "42dadc64",
   "metadata": {},
   "source": [
    "Fit a linear regression model with `lstat` and `age`"
   ]
  },
  {
   "cell_type": "code",
   "execution_count": 11,
   "id": "406fa598",
   "metadata": {},
   "outputs": [],
   "source": [
    "y2, X2 = dmatrices('medv ~ lstat + age', data=boston_df, return_type='dataframe')\n",
    "mod2 = sm.OLS(y2, X2)\n",
    "res2 = mod2.fit()"
   ]
  },
  {
   "cell_type": "code",
   "execution_count": 12,
   "id": "1b7791a6",
   "metadata": {},
   "outputs": [
    {
     "name": "stdout",
     "output_type": "stream",
     "text": [
      "                            OLS Regression Results                            \n",
      "==============================================================================\n",
      "Dep. Variable:                   medv   R-squared:                       0.551\n",
      "Model:                            OLS   Adj. R-squared:                  0.549\n",
      "Method:                 Least Squares   F-statistic:                     309.0\n",
      "Date:                Mon, 12 Jul 2021   Prob (F-statistic):           2.98e-88\n",
      "Time:                        12:50:07   Log-Likelihood:                -1637.5\n",
      "No. Observations:                 506   AIC:                             3281.\n",
      "Df Residuals:                     503   BIC:                             3294.\n",
      "Df Model:                           2                                         \n",
      "Covariance Type:            nonrobust                                         \n",
      "==============================================================================\n",
      "                 coef    std err          t      P>|t|      [0.025      0.975]\n",
      "------------------------------------------------------------------------------\n",
      "Intercept     33.2228      0.731     45.458      0.000      31.787      34.659\n",
      "lstat         -1.0321      0.048    -21.416      0.000      -1.127      -0.937\n",
      "age            0.0345      0.012      2.826      0.005       0.011       0.059\n",
      "==============================================================================\n",
      "Omnibus:                      124.288   Durbin-Watson:                   0.945\n",
      "Prob(Omnibus):                  0.000   Jarque-Bera (JB):              244.026\n",
      "Skew:                           1.362   Prob(JB):                     1.02e-53\n",
      "Kurtosis:                       5.038   Cond. No.                         201.\n",
      "==============================================================================\n",
      "\n",
      "Notes:\n",
      "[1] Standard Errors assume that the covariance matrix of the errors is correctly specified.\n"
     ]
    }
   ],
   "source": [
    "print(res2.summary())"
   ]
  },
  {
   "cell_type": "code",
   "execution_count": 13,
   "id": "e386a251",
   "metadata": {},
   "outputs": [],
   "source": [
    "y3, X3 = dmatrices('medv ~ ' + ' + '.join(boston_df.columns[:-1]), \n",
    "                   data=boston_df, return_type='dataframe')\n",
    "mod3 = sm.OLS(y3, X3)\n",
    "res3 = mod3.fit()"
   ]
  },
  {
   "cell_type": "code",
   "execution_count": 14,
   "id": "ef5b8454",
   "metadata": {},
   "outputs": [
    {
     "name": "stdout",
     "output_type": "stream",
     "text": [
      "                            OLS Regression Results                            \n",
      "==============================================================================\n",
      "Dep. Variable:                   medv   R-squared:                       0.741\n",
      "Model:                            OLS   Adj. R-squared:                  0.734\n",
      "Method:                 Least Squares   F-statistic:                     108.1\n",
      "Date:                Mon, 12 Jul 2021   Prob (F-statistic):          6.72e-135\n",
      "Time:                        12:50:07   Log-Likelihood:                -1498.8\n",
      "No. Observations:                 506   AIC:                             3026.\n",
      "Df Residuals:                     492   BIC:                             3085.\n",
      "Df Model:                          13                                         \n",
      "Covariance Type:            nonrobust                                         \n",
      "==============================================================================\n",
      "                 coef    std err          t      P>|t|      [0.025      0.975]\n",
      "------------------------------------------------------------------------------\n",
      "Intercept     36.4595      5.103      7.144      0.000      26.432      46.487\n",
      "crim          -0.1080      0.033     -3.287      0.001      -0.173      -0.043\n",
      "zn             0.0464      0.014      3.382      0.001       0.019       0.073\n",
      "indus          0.0206      0.061      0.334      0.738      -0.100       0.141\n",
      "chas           2.6867      0.862      3.118      0.002       0.994       4.380\n",
      "nox          -17.7666      3.820     -4.651      0.000     -25.272     -10.262\n",
      "rm             3.8099      0.418      9.116      0.000       2.989       4.631\n",
      "age            0.0007      0.013      0.052      0.958      -0.025       0.027\n",
      "dis           -1.4756      0.199     -7.398      0.000      -1.867      -1.084\n",
      "rad            0.3060      0.066      4.613      0.000       0.176       0.436\n",
      "tax           -0.0123      0.004     -3.280      0.001      -0.020      -0.005\n",
      "ptratio       -0.9527      0.131     -7.283      0.000      -1.210      -0.696\n",
      "black          0.0093      0.003      3.467      0.001       0.004       0.015\n",
      "lstat         -0.5248      0.051    -10.347      0.000      -0.624      -0.425\n",
      "==============================================================================\n",
      "Omnibus:                      178.041   Durbin-Watson:                   1.078\n",
      "Prob(Omnibus):                  0.000   Jarque-Bera (JB):              783.126\n",
      "Skew:                           1.521   Prob(JB):                    8.84e-171\n",
      "Kurtosis:                       8.281   Cond. No.                     1.51e+04\n",
      "==============================================================================\n",
      "\n",
      "Notes:\n",
      "[1] Standard Errors assume that the covariance matrix of the errors is correctly specified.\n",
      "[2] The condition number is large, 1.51e+04. This might indicate that there are\n",
      "strong multicollinearity or other numerical problems.\n"
     ]
    }
   ],
   "source": [
    "print(res3.summary())"
   ]
  },
  {
   "cell_type": "markdown",
   "id": "07e2e5c7",
   "metadata": {},
   "source": [
    "### Interaction terms"
   ]
  },
  {
   "cell_type": "markdown",
   "id": "c8889152",
   "metadata": {},
   "source": [
    "Model example with an interaction between `lstat` and `age`"
   ]
  },
  {
   "cell_type": "code",
   "execution_count": 15,
   "id": "f2c4871d",
   "metadata": {},
   "outputs": [
    {
     "name": "stdout",
     "output_type": "stream",
     "text": [
      "                            OLS Regression Results                            \n",
      "==============================================================================\n",
      "Dep. Variable:                   medv   R-squared:                       0.556\n",
      "Model:                            OLS   Adj. R-squared:                  0.553\n",
      "Method:                 Least Squares   F-statistic:                     209.3\n",
      "Date:                Mon, 12 Jul 2021   Prob (F-statistic):           4.86e-88\n",
      "Time:                        12:50:07   Log-Likelihood:                -1635.0\n",
      "No. Observations:                 506   AIC:                             3278.\n",
      "Df Residuals:                     502   BIC:                             3295.\n",
      "Df Model:                           3                                         \n",
      "Covariance Type:            nonrobust                                         \n",
      "==============================================================================\n",
      "                 coef    std err          t      P>|t|      [0.025      0.975]\n",
      "------------------------------------------------------------------------------\n",
      "Intercept     36.0885      1.470     24.553      0.000      33.201      38.976\n",
      "lstat         -1.3921      0.167     -8.313      0.000      -1.721      -1.063\n",
      "age           -0.0007      0.020     -0.036      0.971      -0.040       0.038\n",
      "lstat:age      0.0042      0.002      2.244      0.025       0.001       0.008\n",
      "==============================================================================\n",
      "Omnibus:                      135.601   Durbin-Watson:                   0.965\n",
      "Prob(Omnibus):                  0.000   Jarque-Bera (JB):              296.955\n",
      "Skew:                           1.417   Prob(JB):                     3.29e-65\n",
      "Kurtosis:                       5.461   Cond. No.                     6.88e+03\n",
      "==============================================================================\n",
      "\n",
      "Notes:\n",
      "[1] Standard Errors assume that the covariance matrix of the errors is correctly specified.\n",
      "[2] The condition number is large, 6.88e+03. This might indicate that there are\n",
      "strong multicollinearity or other numerical problems.\n"
     ]
    }
   ],
   "source": [
    "yi, Xi = dmatrices('medv ~ lstat * age', data=boston_df, return_type='dataframe')\n",
    "print(sm.OLS(yi, Xi).fit().summary())"
   ]
  },
  {
   "cell_type": "markdown",
   "id": "c3656c8c",
   "metadata": {},
   "source": [
    "### Nonlinear transformations of predictors"
   ]
  },
  {
   "cell_type": "code",
   "execution_count": 16,
   "id": "ec87d71f",
   "metadata": {},
   "outputs": [
    {
     "name": "stdout",
     "output_type": "stream",
     "text": [
      "                            OLS Regression Results                            \n",
      "==============================================================================\n",
      "Dep. Variable:                   medv   R-squared:                       0.641\n",
      "Model:                            OLS   Adj. R-squared:                  0.639\n",
      "Method:                 Least Squares   F-statistic:                     448.5\n",
      "Date:                Mon, 12 Jul 2021   Prob (F-statistic):          1.56e-112\n",
      "Time:                        12:50:07   Log-Likelihood:                -1581.3\n",
      "No. Observations:                 506   AIC:                             3169.\n",
      "Df Residuals:                     503   BIC:                             3181.\n",
      "Df Model:                           2                                         \n",
      "Covariance Type:            nonrobust                                         \n",
      "=================================================================================\n",
      "                    coef    std err          t      P>|t|      [0.025      0.975]\n",
      "---------------------------------------------------------------------------------\n",
      "Intercept        42.8620      0.872     49.149      0.000      41.149      44.575\n",
      "lstat            -2.3328      0.124    -18.843      0.000      -2.576      -2.090\n",
      "I(lstat ** 2)     0.0435      0.004     11.628      0.000       0.036       0.051\n",
      "==============================================================================\n",
      "Omnibus:                      107.006   Durbin-Watson:                   0.921\n",
      "Prob(Omnibus):                  0.000   Jarque-Bera (JB):              228.388\n",
      "Skew:                           1.128   Prob(JB):                     2.55e-50\n",
      "Kurtosis:                       5.397   Cond. No.                     1.13e+03\n",
      "==============================================================================\n",
      "\n",
      "Notes:\n",
      "[1] Standard Errors assume that the covariance matrix of the errors is correctly specified.\n",
      "[2] The condition number is large, 1.13e+03. This might indicate that there are\n",
      "strong multicollinearity or other numerical problems.\n"
     ]
    }
   ],
   "source": [
    "yn, Xn = dmatrices('medv ~ lstat + I(lstat ** 2)', data=boston_df, return_type='dataframe')\n",
    "print(sm.OLS(yn, Xn).fit().summary())"
   ]
  },
  {
   "cell_type": "code",
   "execution_count": null,
   "id": "33cf4ef3",
   "metadata": {},
   "outputs": [],
   "source": []
  }
 ],
 "metadata": {
  "kernelspec": {
   "display_name": "Python 3",
   "language": "python",
   "name": "python3"
  },
  "language_info": {
   "codemirror_mode": {
    "name": "ipython",
    "version": 3
   },
   "file_extension": ".py",
   "mimetype": "text/x-python",
   "name": "python",
   "nbconvert_exporter": "python",
   "pygments_lexer": "ipython3",
   "version": "3.9.5"
  }
 },
 "nbformat": 4,
 "nbformat_minor": 5
}
